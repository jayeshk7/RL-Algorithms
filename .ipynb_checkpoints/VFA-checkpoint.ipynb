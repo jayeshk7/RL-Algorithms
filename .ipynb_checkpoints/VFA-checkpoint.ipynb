{
 "cells": [
  {
   "cell_type": "code",
   "execution_count": 1,
   "metadata": {},
   "outputs": [],
   "source": [
    "import torch \n",
    "import torch.nn as nn\n",
    "import numpy as np\n",
    "import time \n",
    "import gym"
   ]
  },
  {
   "cell_type": "code",
   "execution_count": 10,
   "metadata": {},
   "outputs": [
    {
     "name": "stdout",
     "output_type": "stream",
     "text": [
      "Box(4,)\n",
      "Discrete(2)\n"
     ]
    }
   ],
   "source": [
    "env = gym.make('CartPole-v1')\n",
    "env.unwrapped\n",
    "print(env.observation_space)\n",
    "print(env.action_space)\n",
    "action_space = env.action_space.n"
   ]
  },
  {
   "cell_type": "code",
   "execution_count": 6,
   "metadata": {},
   "outputs": [],
   "source": [
    "class LinearFA(nn.Module):\n",
    "    def __init__(self):\n",
    "        super(LinearFA, self).__init__()\n",
    "        self.linear = nn.Linear(4,100)\n",
    "        self.output = nn.Linear(100,1)\n",
    "        \n",
    "    def forward(self, state):\n",
    "        return self.output(self.linear(state))\n",
    "    \n",
    "linear_approx = LinearFA()"
   ]
  },
  {
   "cell_type": "code",
   "execution_count": 8,
   "metadata": {},
   "outputs": [],
   "source": [
    "alpha = 0.003\n",
    "\n",
    "loss_fn = nn.MSELoss()\n",
    "optimizer = torch.optim.Adam(linear_approx.parameters(), lr = alpha)"
   ]
  },
  {
   "cell_type": "code",
   "execution_count": null,
   "metadata": {},
   "outputs": [],
   "source": [
    "state = env.reset()\n",
    "\n",
    "while (avg_reward < 196):\n",
    "    \n",
    "    state_value = linear_approx(torch.tensor(state))\n",
    "    \n",
    "    action = env.action_space.sample()\n",
    "    nextstate, reward, done, _ = env.step(action)\n",
    "    with torch.no_grad:\n",
    "        nextstate_value = linear_approx(torch.tensor(nextstate))\n",
    "    \n",
    "    loss = loss_fn(reward + nextstate, state_value)"
   ]
  }
 ],
 "metadata": {
  "kernelspec": {
   "display_name": "Python 3",
   "language": "python",
   "name": "python3"
  },
  "language_info": {
   "codemirror_mode": {
    "name": "ipython",
    "version": 3
   },
   "file_extension": ".py",
   "mimetype": "text/x-python",
   "name": "python",
   "nbconvert_exporter": "python",
   "pygments_lexer": "ipython3",
   "version": "3.7.6"
  }
 },
 "nbformat": 4,
 "nbformat_minor": 4
}
