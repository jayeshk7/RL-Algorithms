{
 "cells": [
  {
   "cell_type": "code",
   "execution_count": 1,
   "metadata": {
    "colab": {},
    "colab_type": "code",
    "id": "eYAsFs3D9hjm"
   },
   "outputs": [],
   "source": [
    "import torch\n",
    "import torch.nn as nn\n",
    "import torch.nn.functional as F\n",
    "import gym\n",
    "import numpy as np\n",
    "import random"
   ]
  },
  {
   "cell_type": "code",
   "execution_count": 2,
   "metadata": {
    "colab": {},
    "colab_type": "code",
    "id": "ZGR-TAks--F9"
   },
   "outputs": [
    {
     "name": "stderr",
     "output_type": "stream",
     "text": [
      "/home/kandpal/anaconda3/lib/python3.7/site-packages/gym/envs/registration.py:14: PkgResourcesDeprecationWarning: Parameters to load are deprecated.  Call .resolve and .require separately.\n",
      "  result = entry_point.load(False)\n"
     ]
    }
   ],
   "source": [
    "env = gym.make('CartPole-v1')\n",
    "env.unwrapped\n",
    "\n",
    "state_space = env.observation_space.shape[0]\n",
    "action_space = env.action_space.n"
   ]
  },
  {
   "cell_type": "code",
   "execution_count": null,
   "metadata": {
    "colab": {},
    "colab_type": "code",
    "id": "zDbhONWa9oSq"
   },
   "outputs": [],
   "source": [
    "class DQN(nn.Module):\n",
    "  def __init__ (self, state_space, action_space):\n",
    "    super(DQN, self).__init__()\n",
    "\n",
    "    self.linear1 = nn.Linear(state_space, 256)\n",
    "    self.linear2 = nn.Linear(256, 128)\n",
    "    self.linear3 = nn.Linear(128, action_space)\n",
    "\n",
    "  def forward(self, state):\n",
    "\n",
    "    state = torch.tensor(state).float()\n",
    "    hidden1 = F.relu(self.linear1(state))\n",
    "    hidden2 = F.relu(self.linear2(hidden1))\n",
    "    output = self.linear3(hidden2)\n",
    "\n",
    "    return output"
   ]
  },
  {
   "cell_type": "code",
   "execution_count": null,
   "metadata": {
    "colab": {},
    "colab_type": "code",
    "id": "Gd2btC-9AVTR"
   },
   "outputs": [],
   "source": [
    "def epsilon_greedy(actions, epsilon):\n",
    "  chance = np.random.uniform(0,1)\n",
    "  return (torch.argmax(actions)).item() if chance<epsilon else env.action_space.sample()\n",
    "\n",
    "def replay_buffer(sars_tuple, buffer_list):\n",
    "  buffer_list.append(sars_tuple)\n",
    "  return buffer_list"
   ]
  },
  {
   "cell_type": "code",
   "execution_count": null,
   "metadata": {
    "colab": {},
    "colab_type": "code",
    "id": "PeWjjpge-hQT"
   },
   "outputs": [],
   "source": [
    "target_net = DQN(state_space, action_space)\n",
    "behaviour = DQN(state_space, action_space)\n",
    "target_net.load_state_dict(behaviour.state_dict())\n",
    "target_net.eval()\n",
    "\n",
    "alpha = 0.0003\n",
    "lossfn = nn.MSELoss()\n",
    "optimizer = torch.optim.Adam(behaviour.parameters(), lr = alpha)"
   ]
  },
  {
   "cell_type": "code",
   "execution_count": null,
   "metadata": {
    "colab": {
     "base_uri": "https://localhost:8080/",
     "height": 185
    },
    "colab_type": "code",
    "id": "yoN49Fp4IFWS",
    "outputId": "eeae193b-d86d-4bd7-fede-7b0d0f10ed0d"
   },
   "outputs": [
    {
     "name": "stdout",
     "output_type": "stream",
     "text": [
      "10.06\n",
      "11.35\n",
      "13.82\n",
      "15.62\n",
      "19.68\n",
      "18.6\n",
      "20.49\n",
      "20.05\n",
      "22.48\n",
      "20.23\n"
     ]
    }
   ],
   "source": [
    "## TRAIN\n",
    "\n",
    "episodes = 1000\n",
    "epsilon = 0.9\n",
    "rewards = []\n",
    "buffer_list = []\n",
    "\n",
    "for episode in range(episodes):\n",
    "  \n",
    "  state = env.reset()\n",
    "  total_reward = 0\n",
    "  done = False\n",
    "  while not done:\n",
    "    action = epsilon_greedy(behaviour.forward(state), epsilon)\n",
    "    nextstate, reward, done, _ = env.step(action)\n",
    "    total_reward += reward\n",
    "    buffer_list = replay_buffer((state,action,reward,nextstate), buffer_list)\n",
    "    state = nextstate\n",
    "    \n",
    "    # for _ in range(10):\n",
    "    s,a,r,s_ = random.sample(buffer_list, 1)[0]                  # random.sample returns a list so accessing the 0th element to get the tuple sars\n",
    "    target = torch.tensor(r) + torch.max(target_net(s_))\n",
    "    prediction = behaviour(s)[action]\n",
    "    loss = lossfn(target, prediction)\n",
    "\n",
    "    optimizer.zero_grad()\n",
    "    loss.backward()\n",
    "    optimizer.step()\n",
    "    \n",
    "  rewards.append(total_reward)\n",
    "  if (episode+1)%100 == 0:\n",
    "    epsilon /= 1.2\n",
    "    print(np.mean(rewards[-100:]))\n",
    "    target_net.load_state_dict(behaviour.state_dict())"
   ]
  },
  {
   "cell_type": "code",
   "execution_count": null,
   "metadata": {
    "colab": {
     "base_uri": "https://localhost:8080/",
     "height": 265
    },
    "colab_type": "code",
    "id": "vWdB6290K9VR",
    "outputId": "1e5d4ce5-f55d-4c56-a202-11e43caa84a7"
   },
   "outputs": [
    {
     "data": {
      "image/png": "[encoded data removed]",
      "text/plain": [
       "<Figure size 432x288 with 1 Axes>"
      ]
     },
     "metadata": {
      "needs_background": "light",
      "tags": []
     },
     "output_type": "display_data"
    }
   ],
   "source": [
    "import matplotlib.pyplot as plt\n",
    "from scipy.ndimage import gaussian_filter\n",
    "plt.plot(rewards)\n",
    "plt.plot(gaussian_filter(rewards, sigma = 20))\n",
    "plt.show()"
   ]
  },
  {
   "cell_type": "code",
   "execution_count": null,
   "metadata": {
    "colab": {},
    "colab_type": "code",
    "id": "N0A_jxF9BuwI"
   },
   "outputs": [],
   "source": []
  }
 ],
 "metadata": {
  "colab": {
   "collapsed_sections": [],
   "name": "DQN.ipynb",
   "provenance": []
  },
  "kernelspec": {
   "display_name": "Python 3",
   "language": "python",
   "name": "python3"
  },
  "language_info": {
   "codemirror_mode": {
    "name": "ipython",
    "version": 3
   },
   "file_extension": ".py",
   "mimetype": "text/x-python",
   "name": "python",
   "nbconvert_exporter": "python",
   "pygments_lexer": "ipython3",
   "version": "3.7.6"
  }
 },
 "nbformat": 4,
 "nbformat_minor": 1
}
