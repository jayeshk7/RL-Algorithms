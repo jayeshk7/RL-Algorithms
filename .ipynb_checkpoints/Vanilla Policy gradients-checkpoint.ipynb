{
 "cells": [
  {
   "cell_type": "code",
   "execution_count": 2,
   "metadata": {},
   "outputs": [],
   "source": [
    "import torch\n",
    "import torch.nn as nn\n",
    "import numpy as np\n",
    "import gym"
   ]
  },
  {
   "cell_type": "code",
   "execution_count": 5,
   "metadata": {},
   "outputs": [
    {
     "data": {
      "text/plain": [
       "<gym.envs.classic_control.cartpole.CartPoleEnv at 0x7f22643723d0>"
      ]
     },
     "execution_count": 5,
     "metadata": {},
     "output_type": "execute_result"
    }
   ],
   "source": [
    "env = gym.make('CartPole-v1')\n",
    "env.unwrapped"
   ]
  },
  {
   "cell_type": "code",
   "execution_count": 10,
   "metadata": {},
   "outputs": [],
   "source": [
    "state_space = env.observation_space.shape[0]\n",
    "action_space = env.action_space.n"
   ]
  },
  {
   "cell_type": "code",
   "execution_count": 11,
   "metadata": {},
   "outputs": [],
   "source": [
    "class Policynetwork(nn.Module):\n",
    "    def __init__(self, state_space, action_space):\n",
    "        super(Policynetwork, self).__init__()\n",
    "        \n",
    "        self.linear1 = nn.Linear(state_space, 128)\n",
    "        self.linear2 = nn.Linear(128, 64)\n",
    "        self.linear3 = nn.Linear(64, action_space)\n",
    "        \n",
    "    def forward(self, state):\n",
    "        \n",
    "        hidden1 = nn.functional.relu(self.linear1(state))\n",
    "        hidden2 = nn.functional.relu(self.linear2(hidden1))\n",
    "        action_preds = nn.functional.softmax(self.linear(hidden2))\n",
    "        \n",
    "        return action_preds\n",
    "    \n",
    "\n",
    "policy_network = Policynetwork(state_space, action_space)"
   ]
  },
  {
   "cell_type": "code",
   "execution_count": 12,
   "metadata": {},
   "outputs": [],
   "source": [
    "alpha = 0.003\n",
    "\n",
    "loss_function = nn.CrossEntropyLoss()\n",
    "optimizer = torch.optim.Adam(policy_network.parameters(), lr = alpha)"
   ]
  },
  {
   "cell_type": "code",
   "execution_count": 13,
   "metadata": {},
   "outputs": [],
   "source": [
    "def epsilon_greedy(predictions, epsilon):\n",
    "    \n",
    "    chance = np.random.uniform(0,1)\n",
    "    return torch.argmax(predictions) if chance<epsilon else env.action_space.sample()\n",
    "\n",
    "def generate_episode(env, policy):\n",
    "    \n",
    "    experience = []\n",
    "    state = env.reset()\n",
    "    action = policy.forward(torch.tensor(state))\n",
    "    \n",
    "    nextstate, reward, done, _ = env.step(action)\n",
    "    experience.append((state, action, reward, nextstate))\n",
    "    if done:\n",
    "        return experience"
   ]
  },
  {
   "cell_type": "code",
   "execution_count": null,
   "metadata": {},
   "outputs": [],
   "source": [
    "## TRAIN\n",
    "\n",
    "episodes = 1000\n",
    "epsilon = 0.9\n",
    "\n",
    "# state = env.reset()\n",
    "# action_preds = policy_network.forward(torch.tensor(state))\n",
    "\n",
    "for episode in episodes:\n",
    "    \n",
    "    episode = generate_episode(env, policy_network)\n",
    "    \n",
    "    action = epsilon_greedy(action_preds)\n",
    "    nextstate, reward, done, _ = env.step(action)\n",
    "    \n",
    "    "
   ]
  }
 ],
 "metadata": {
  "kernelspec": {
   "display_name": "Python 3",
   "language": "python",
   "name": "python3"
  },
  "language_info": {
   "codemirror_mode": {
    "name": "ipython",
    "version": 3
   },
   "file_extension": ".py",
   "mimetype": "text/x-python",
   "name": "python",
   "nbconvert_exporter": "python",
   "pygments_lexer": "ipython3",
   "version": "3.7.6"
  }
 },
 "nbformat": 4,
 "nbformat_minor": 4
}
