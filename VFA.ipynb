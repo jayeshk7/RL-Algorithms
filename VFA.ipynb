{
 "cells": [
  {
   "cell_type": "code",
   "execution_count": 9,
   "metadata": {},
   "outputs": [],
   "source": [
    "import torch \n",
    "import torch.nn as nn\n",
    "import numpy as np\n",
    "import time \n",
    "from collections import namedtuple\n",
    "import random\n",
    "import gym"
   ]
  },
  {
   "cell_type": "code",
   "execution_count": 16,
   "metadata": {
    "scrolled": true
   },
   "outputs": [],
   "source": [
    "env = gym.make('CartPole-v1')\n",
    "env.unwrapped\n",
    "\n",
    "observation_space = env.observation_space.shape[0]     # observation = Box(4,)\n",
    "action_space = env.action_space.n                      # 2 actions : 0 means left, 1 means right"
   ]
  },
  {
   "cell_type": "code",
   "execution_count": 8,
   "metadata": {},
   "outputs": [
    {
     "data": {
      "text/plain": [
       "Experience(state=2, action=1, reward=3, nextstate=4)"
      ]
     },
     "execution_count": 8,
     "metadata": {},
     "output_type": "execute_result"
    }
   ],
   "source": [
    "xp = namedtuple('Experience', ('state', 'action', 'reward', 'nextstate'))\n",
    "\n",
    "e = xp(2,1,3,4)\n",
    "e"
   ]
  },
  {
   "cell_type": "markdown",
   "metadata": {},
   "source": [
    "nn package contains all components needed to build networks. within nn package there is a class called module. It is the base class for all NN modules so our network will extend the nn.Module class\n",
    "We define our network as a class that extends nn.Module"
   ]
  },
  {
   "cell_type": "code",
   "execution_count": 18,
   "metadata": {},
   "outputs": [],
   "source": [
    "class DQN(nn.Module):\n",
    "    def __init__(self, state_size, action_size):\n",
    "        \n",
    "        super(DQN, self).__init__()\n",
    "        self.state_size = state_size\n",
    "        self.action_size = action_size\n",
    "        self.linear1 = nn.Linear(state_size, 100)\n",
    "        self.linear2 = nn.Linear(100, action_size)\n",
    "        \n",
    "        \n",
    "    def forward(self, state):\n",
    "        \n",
    "        hidden = nn.functional.relu(self.linear1(state))\n",
    "        q_prediction = self.linear(hidden)\n",
    "        return q_prediction"
   ]
  },
  {
   "cell_type": "code",
   "execution_count": 22,
   "metadata": {},
   "outputs": [],
   "source": [
    "class Replaybuffer():\n",
    "    \n",
    "    def __init__(self, capacity):\n",
    "        self.capacity = capacity\n",
    "        self.memory = []\n",
    "        self.xp_count = 0\n",
    "        \n",
    "    \n",
    "    def add_xp(self, xp):\n",
    "        if len(self.memory) < self.capacity:\n",
    "            self.memory.append(xp)\n",
    "        else:\n",
    "            self.memory[self.xp_count % self.capacity] = xp\n",
    "        self.xp_count += 1\n",
    "        \n",
    "    \n",
    "    def sample(self, batch_size):\n",
    "        return random.sample(self.memory, batch_size)\n",
    "    \n",
    "\n",
    "    def can_provide_sample(self, batch_size):\n",
    "        return len(self.memory) >= batch_size"
   ]
  },
  {
   "cell_type": "code",
   "execution_count": 23,
   "metadata": {},
   "outputs": [],
   "source": [
    "def e_greedy(behaviour_dqn, epsilon, state):\n",
    "    \n",
    "    if np.random.uniform(0,1) > epsilon:\n",
    "        return env.action_space.sample()\n",
    "    else:\n",
    "        with torch.no_grad:\n",
    "            qvalues = behaviour_dqn.forward(state)\n",
    "            return torch.argmax(qvalues)"
   ]
  },
  {
   "cell_type": "code",
   "execution_count": 19,
   "metadata": {},
   "outputs": [
    {
     "data": {
      "text/plain": [
       "<All keys matched successfully>"
      ]
     },
     "execution_count": 19,
     "metadata": {},
     "output_type": "execute_result"
    }
   ],
   "source": [
    "behaviour_dqn = DQN(observation_space, action_space)\n",
    "target_dqn = DQN(observation_space, action_space)\n",
    "\n",
    "target_dqn.load_state_dict(behaviour_dqn.state_dict())"
   ]
  },
  {
   "cell_type": "code",
   "execution_count": 20,
   "metadata": {},
   "outputs": [],
   "source": [
    "alpha = 0.003\n",
    "optimizer = torch.optim.Adam(behaviour_dqn.parameters(), lr = alpha)"
   ]
  },
  {
   "cell_type": "code",
   "execution_count": null,
   "metadata": {},
   "outputs": [],
   "source": [
    "n_episodes = 1000\n",
    "epsilon = 0.9\n",
    "\n",
    "\n",
    "for episode in range(n_episodes):\n",
    "    \n",
    "    state = env.reset()\n",
    "    done = False\n",
    "    exp_replay = Replaybuffer(50)\n",
    "    \n",
    "    # get the complete episode\n",
    "    while not done:\n",
    "        \n",
    "        action = e_greedy(behaviour_dqn, epsilon, state)\n",
    "        nextstate, reward, done, _ = env.step()\n",
    "        exp_replay.add_xp(xp(state, action, reward, nextstate))\n",
    "        if done:\n",
    "            break\n",
    "        state = nextstate\n",
    "        \n",
    "        \n",
    "        \n",
    "        "
   ]
  },
  {
   "cell_type": "code",
   "execution_count": null,
   "metadata": {},
   "outputs": [],
   "source": []
  },
  {
   "cell_type": "code",
   "execution_count": null,
   "metadata": {},
   "outputs": [],
   "source": []
  },
  {
   "cell_type": "code",
   "execution_count": null,
   "metadata": {},
   "outputs": [],
   "source": []
  },
  {
   "cell_type": "code",
   "execution_count": null,
   "metadata": {},
   "outputs": [],
   "source": []
  },
  {
   "cell_type": "code",
   "execution_count": null,
   "metadata": {},
   "outputs": [],
   "source": []
  },
  {
   "cell_type": "code",
   "execution_count": null,
   "metadata": {},
   "outputs": [],
   "source": []
  }
 ],
 "metadata": {
  "kernelspec": {
   "display_name": "Python 3",
   "language": "python",
   "name": "python3"
  },
  "language_info": {
   "codemirror_mode": {
    "name": "ipython",
    "version": 3
   },
   "file_extension": ".py",
   "mimetype": "text/x-python",
   "name": "python",
   "nbconvert_exporter": "python",
   "pygments_lexer": "ipython3",
   "version": "3.7.6"
  }
 },
 "nbformat": 4,
 "nbformat_minor": 4
}
